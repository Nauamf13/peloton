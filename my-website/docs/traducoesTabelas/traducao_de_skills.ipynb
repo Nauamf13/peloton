{
 "cells": [
  {
   "cell_type": "code",
   "execution_count": 1,
   "id": "80a2305b",
   "metadata": {},
   "outputs": [],
   "source": [
    "import pandas as pd\n",
    "import numpy as np\n",
    "import matplotlib.pyplot as plt\n",
    "from unicodedata import normalize\n",
    "import lxml\n",
    "import time\n",
    "import json\n",
    "from translate import Translator #https://pypi.org/project/translate/\n"
   ]
  },
  {
   "cell_type": "code",
   "execution_count": 2,
   "id": "d51d655e",
   "metadata": {},
   "outputs": [],
   "source": [
    "translator = Translator(to_lang=\"pt\",from_lang=\"en\",email= \"agrmonteiro@gmail.com\")"
   ]
  },
  {
   "cell_type": "code",
   "execution_count": 3,
   "id": "bedd49c3",
   "metadata": {},
   "outputs": [],
   "source": [
    "#Classe = [\"gunbreaker\", \"darkknight\", \"paladin\", \"warrior\", \"whitemage\", \"scholar\", \"astrologian\", \"monk\",\"dragoon\", \"ninja\", \n",
    "#          \"samurai\", \"machinist\", \"bard\", \"dancer\", \"blackmage\", \"redmage\",\"bluemage\",\"summoner\"]\n",
    "Classe = [[\"darkknight\",10000],[ \"paladin\",11000],[\"gunbreaker\",12000],[\"warrior\",13000],\n",
    "            [\"whitemage\",20000], [\"scholar\",21000], [\"astrologian\",22000],[\"sage\",23000], \n",
    "            [\"monk\",30000],[\"dragoon\",31000], [\"ninja\",32000],[\"samurai\",33000],\n",
    "            [\"reaper\",34000],\n",
    "            [\"machinist\",40000], [\"bard\",41000], [\"dancer\",42000], \n",
    "            [\"blackmage\",50000], [\"redmage\",51000],[\"summoner\",52000]]  "
   ]
  },
  {
   "cell_type": "code",
   "execution_count": 6,
   "id": "68eef04e",
   "metadata": {},
   "outputs": [
    {
     "name": "stdout",
     "output_type": "stream",
     "text": [
      "inicio:darkknight : 10000\n",
      "fim  : darkknight\n",
      "inicio:paladin : 11000\n",
      "fim  : paladin\n",
      "inicio:gunbreaker : 12000\n",
      "fim  : gunbreaker\n",
      "inicio:warrior : 13000\n",
      "fim  : warrior\n",
      "inicio:whitemage : 20000\n",
      "fim  : whitemage\n",
      "inicio:scholar : 21000\n",
      "fim  : scholar\n",
      "inicio:astrologian : 22000\n",
      "fim  : astrologian\n",
      "inicio:sage : 23000\n",
      "fim  : sage\n",
      "inicio:monk : 30000\n",
      "fim  : monk\n",
      "inicio:dragoon : 31000\n",
      "fim  : dragoon\n",
      "inicio:ninja : 32000\n",
      "fim  : ninja\n",
      "inicio:samurai : 33000\n",
      "fim  : samurai\n",
      "inicio:reaper : 34000\n",
      "fim  : reaper\n",
      "inicio:machinist : 40000\n",
      "fim  : machinist\n",
      "inicio:bard : 41000\n",
      "fim  : bard\n",
      "inicio:dancer : 42000\n",
      "fim  : dancer\n",
      "inicio:blackmage : 50000\n",
      "fim  : blackmage\n",
      "inicio:redmage : 51000\n",
      "fim  : redmage\n",
      "inicio:summoner : 52000\n",
      "fim  : summoner\n"
     ]
    }
   ],
   "source": [
    "y=0\n",
    "for x in Classe:\n",
    "    vClass=0\n",
    "    vPage=x[0]\n",
    "    vClassCode=x[1]\n",
    "    print(f'{\"inicio:\" }{vPage}{\" : \"}{vClassCode}')\n",
    "    table_MN = pd.read_html('https://na.finalfantasyxiv.com/jobguide/'+vPage)\n",
    "   \n",
    "    \n",
    "    #limpeza do dataframe\n",
    "    df = table_MN[0]\n",
    "    df1 = df.dropna(how='all')\n",
    "    df1 = df1.dropna(how='all', axis=1)\n",
    "    df1['rowID']=range(vClassCode, int(len(df1)) +int(vClassCode))\n",
    "    df1.set_index('rowID',inplace=True)\n",
    "    \n",
    "    #modelo para sequencia a variavel y usado na gravacao do json\n",
    "    vClose='},'\n",
    "    vOpen='{'\n",
    "    #tradução\n",
    "    df1['translated_value'] = df1['Effect'].apply(lambda x: translator.translate(x))\n",
    "    #df1['Effect'].drop\n",
    "    df1.drop(['Type', 'RangeRadius', 'Effect'], axis='columns', inplace=True)\n",
    "    #saida\n",
    "\n",
    "    \n",
    "    out = df1.to_json(orient=\"records\") #era index\n",
    "\n",
    "    print(f'{\"fim  : \" }{vPage}')\n",
    "    with open(vPage+'.json', 'w') as f:\n",
    "        f.write(out)\n",
    "    #time.sleep(15)\n",
    "    table_MN=[]\n",
    "    y=y+1\n",
    "    "
   ]
  },
  {
   "cell_type": "code",
   "execution_count": null,
   "id": "4c69529a",
   "metadata": {},
   "outputs": [],
   "source": []
  },
  {
   "cell_type": "code",
   "execution_count": null,
   "id": "90873599-d50d-4a65-b75c-05ccd48ec322",
   "metadata": {},
   "outputs": [],
   "source": []
  }
 ],
 "metadata": {
  "kernelspec": {
   "display_name": "Python 3 (ipykernel)",
   "language": "python",
   "name": "python3"
  },
  "language_info": {
   "codemirror_mode": {
    "name": "ipython",
    "version": 3
   },
   "file_extension": ".py",
   "mimetype": "text/x-python",
   "name": "python",
   "nbconvert_exporter": "python",
   "pygments_lexer": "ipython3",
   "version": "3.10.2"
  }
 },
 "nbformat": 4,
 "nbformat_minor": 5
}
